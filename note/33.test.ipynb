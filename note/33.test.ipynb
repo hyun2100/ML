{
 "cells": [
  {
   "cell_type": "code",
   "execution_count": 1,
   "metadata": {},
   "outputs": [
    {
     "name": "stdout",
     "output_type": "stream",
     "text": [
      "Collecting pygbif\n",
      "  Downloading pygbif-0.6.4-py3-none-any.whl.metadata (12 kB)\n",
      "Requirement already satisfied: requests>2.7 in /opt/anaconda3/envs/tjAKA/lib/python3.12/site-packages (from pygbif) (2.32.3)\n",
      "Collecting requests-cache (from pygbif)\n",
      "  Downloading requests_cache-1.2.1-py3-none-any.whl.metadata (9.9 kB)\n",
      "Collecting geojson-rewind (from pygbif)\n",
      "  Downloading geojson_rewind-1.1.0-py3-none-any.whl.metadata (4.5 kB)\n",
      "Collecting geomet (from pygbif)\n",
      "  Downloading geomet-1.1.0-py3-none-any.whl.metadata (11 kB)\n",
      "Collecting appdirs>=1.4.3 (from pygbif)\n",
      "  Downloading appdirs-1.4.4-py2.py3-none-any.whl.metadata (9.0 kB)\n",
      "Requirement already satisfied: matplotlib in /opt/anaconda3/envs/tjAKA/lib/python3.12/site-packages (from pygbif) (3.9.2)\n",
      "Requirement already satisfied: charset-normalizer<4,>=2 in /opt/anaconda3/envs/tjAKA/lib/python3.12/site-packages (from requests>2.7->pygbif) (3.3.2)\n",
      "Requirement already satisfied: idna<4,>=2.5 in /opt/anaconda3/envs/tjAKA/lib/python3.12/site-packages (from requests>2.7->pygbif) (3.7)\n",
      "Requirement already satisfied: urllib3<3,>=1.21.1 in /opt/anaconda3/envs/tjAKA/lib/python3.12/site-packages (from requests>2.7->pygbif) (2.2.3)\n",
      "Requirement already satisfied: certifi>=2017.4.17 in /opt/anaconda3/envs/tjAKA/lib/python3.12/site-packages (from requests>2.7->pygbif) (2024.8.30)\n",
      "Requirement already satisfied: click in /opt/anaconda3/envs/tjAKA/lib/python3.12/site-packages (from geomet->pygbif) (8.1.7)\n",
      "Requirement already satisfied: contourpy>=1.0.1 in /opt/anaconda3/envs/tjAKA/lib/python3.12/site-packages (from matplotlib->pygbif) (1.2.0)\n",
      "Requirement already satisfied: cycler>=0.10 in /opt/anaconda3/envs/tjAKA/lib/python3.12/site-packages (from matplotlib->pygbif) (0.11.0)\n",
      "Requirement already satisfied: fonttools>=4.22.0 in /opt/anaconda3/envs/tjAKA/lib/python3.12/site-packages (from matplotlib->pygbif) (4.51.0)\n",
      "Requirement already satisfied: kiwisolver>=1.3.1 in /opt/anaconda3/envs/tjAKA/lib/python3.12/site-packages (from matplotlib->pygbif) (1.4.4)\n",
      "Requirement already satisfied: numpy>=1.23 in /opt/anaconda3/envs/tjAKA/lib/python3.12/site-packages (from matplotlib->pygbif) (1.26.4)\n",
      "Requirement already satisfied: packaging>=20.0 in /opt/anaconda3/envs/tjAKA/lib/python3.12/site-packages (from matplotlib->pygbif) (24.1)\n",
      "Requirement already satisfied: pillow>=8 in /opt/anaconda3/envs/tjAKA/lib/python3.12/site-packages (from matplotlib->pygbif) (10.4.0)\n",
      "Requirement already satisfied: pyparsing>=2.3.1 in /opt/anaconda3/envs/tjAKA/lib/python3.12/site-packages (from matplotlib->pygbif) (3.1.2)\n",
      "Requirement already satisfied: python-dateutil>=2.7 in /opt/anaconda3/envs/tjAKA/lib/python3.12/site-packages (from matplotlib->pygbif) (2.9.0)\n",
      "Requirement already satisfied: attrs>=21.2 in /opt/anaconda3/envs/tjAKA/lib/python3.12/site-packages (from requests-cache->pygbif) (24.2.0)\n",
      "Collecting cattrs>=22.2 (from requests-cache->pygbif)\n",
      "  Downloading cattrs-24.1.2-py3-none-any.whl.metadata (8.4 kB)\n",
      "Requirement already satisfied: platformdirs>=2.5 in /opt/anaconda3/envs/tjAKA/lib/python3.12/site-packages (from requests-cache->pygbif) (4.3.6)\n",
      "Collecting url-normalize>=1.4 (from requests-cache->pygbif)\n",
      "  Downloading url_normalize-1.4.3-py2.py3-none-any.whl.metadata (3.1 kB)\n",
      "Requirement already satisfied: six>=1.5 in /opt/anaconda3/envs/tjAKA/lib/python3.12/site-packages (from python-dateutil>=2.7->matplotlib->pygbif) (1.16.0)\n",
      "Downloading pygbif-0.6.4-py3-none-any.whl (64 kB)\n",
      "Downloading appdirs-1.4.4-py2.py3-none-any.whl (9.6 kB)\n",
      "Downloading geojson_rewind-1.1.0-py3-none-any.whl (5.2 kB)\n",
      "Downloading geomet-1.1.0-py3-none-any.whl (31 kB)\n",
      "Downloading requests_cache-1.2.1-py3-none-any.whl (61 kB)\n",
      "Downloading cattrs-24.1.2-py3-none-any.whl (66 kB)\n",
      "Downloading url_normalize-1.4.3-py2.py3-none-any.whl (6.8 kB)\n",
      "Installing collected packages: appdirs, url-normalize, geomet, geojson-rewind, cattrs, requests-cache, pygbif\n",
      "Successfully installed appdirs-1.4.4 cattrs-24.1.2 geojson-rewind-1.1.0 geomet-1.1.0 pygbif-0.6.4 requests-cache-1.2.1 url-normalize-1.4.3\n",
      "Note: you may need to restart the kernel to use updated packages.\n"
     ]
    }
   ],
   "source": [
    "%pip install pygbif"
   ]
  },
  {
   "cell_type": "code",
   "execution_count": null,
   "metadata": {},
   "outputs": [
    {
     "name": "stdout",
     "output_type": "stream",
     "text": [
      "Download requested successfully\n",
      "Download key: 0002549-241107131044228\n"
     ]
    }
   ],
   "source": [
    "import requests\n",
    "from requests.auth import HTTPBasicAuth\n",
    "import json\n",
    "\n",
    "# GBIF 계정 정보\n",
    "username = \"그거\"\n",
    "password = \"이거\"\n",
    "\n",
    "# API 엔드포인트\n",
    "url = \"https://api.gbif.org/v1/occurrence/download/request\"\n",
    "\n",
    "# 다운로드 요청 데이터\n",
    "data = {\n",
    "    \"creator\": username,\n",
    "    \"notification_address\": [\"wjsvhfdkatksc@gmail.com\"],\n",
    "    \"sendNotification\": True,\n",
    "    \"format\": \"SIMPLE_CSV\",\n",
    "    \"predicate\": {\n",
    "        \"type\": \"equals\",\n",
    "        \"key\": \"DATASET_KEY\",\n",
    "        \"value\": \"88e38292-f762-11e1-a439-00145eb45e9a\"\n",
    "    }\n",
    "}\n",
    "\n",
    "# API 요청\n",
    "response = requests.post(url, auth=HTTPBasicAuth(username, password),json=data)\n",
    "\n",
    "# 응답 확인\n",
    "if response.status_code == 201:\n",
    "    print(\"Download requested successfully\")\n",
    "    print(\"Download key:\", response.text)\n",
    "else:\n",
    "    print(\"Error:\", response.status_code, response.text)"
   ]
  },
  {
   "cell_type": "code",
   "execution_count": null,
   "metadata": {},
   "outputs": [],
   "source": []
  },
  {
   "cell_type": "code",
   "execution_count": null,
   "metadata": {},
   "outputs": [],
   "source": []
  },
  {
   "cell_type": "code",
   "execution_count": null,
   "metadata": {},
   "outputs": [],
   "source": []
  },
  {
   "cell_type": "code",
   "execution_count": null,
   "metadata": {},
   "outputs": [],
   "source": []
  },
  {
   "cell_type": "code",
   "execution_count": null,
   "metadata": {},
   "outputs": [],
   "source": []
  }
 ],
 "metadata": {
  "kernelspec": {
   "display_name": "tjAKA",
   "language": "python",
   "name": "python3"
  },
  "language_info": {
   "codemirror_mode": {
    "name": "ipython",
    "version": 3
   },
   "file_extension": ".py",
   "mimetype": "text/x-python",
   "name": "python",
   "nbconvert_exporter": "python",
   "pygments_lexer": "ipython3",
   "version": "3.12.7"
  }
 },
 "nbformat": 4,
 "nbformat_minor": 2
}
