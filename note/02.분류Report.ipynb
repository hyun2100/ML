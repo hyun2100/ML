{
 "cells": [
  {
   "cell_type": "markdown",
   "metadata": {},
   "source": [
    "번호 : [1,    2,   3,  4,   5,   6].   \n",
    "정답 : [음치, 음치, 음치, 음치, 정상, 정상].   \n",
    "예측 : [음치, 음치, 정상, 정상, 정상, 정상].   \n",
    "정확도 : 예측이 맞은 비율 67%(4/6)   \n",
    "정밀도 : 진짜 음치가 얼마나 있는가? 100%(2/2)  \n",
    "재현율 : 전체 음치 중에서 내가 맞춘 음치의 비율 50%(2/4)  \n",
    "F1 Score : 정밀도와 재현율의 조화평균  \n",
    "2*(정밀도 * 재현율) / (정밀도 + 재현율) = 2* 1 * 0.5/(1 + 0.5) = 0.67  "
   ]
  },
  {
   "cell_type": "markdown",
   "metadata": {},
   "source": [
    "### Python Code로 확인하기"
   ]
  },
  {
   "cell_type": "code",
   "execution_count": 1,
   "metadata": {},
   "outputs": [],
   "source": [
    "import numpy as np"
   ]
  },
  {
   "cell_type": "code",
   "execution_count": 12,
   "metadata": {},
   "outputs": [
    {
     "name": "stdout",
     "output_type": "stream",
     "text": [
      "accuracy : 0.67\n",
      "precision : 1.00\n",
      "recall : 0.50\n",
      "f1 : 0.67\n"
     ]
    }
   ],
   "source": [
    "y = np.array([1, 1, 1, 1, 0, 0])\n",
    "\n",
    "p = np.array([1, 1, 0, 0, 0, 0])\n",
    "\n",
    "accuracy = np.mean(np.equal(y,p))\n",
    "print(f'accuracy : {accuracy:.2f}')\n",
    "\n",
    "right = np.sum(y*p ==1)\n",
    "precision = right/np.sum(p)\n",
    "print(f'precision : {precision:.2f}')\n",
    "\n",
    "recall = right/np.sum(y)\n",
    "print(f'recall : {recall:.2f}')\n",
    "\n",
    "f1 = 2/((1/precision)+ (1/recall))\n",
    "print(f'f1 : {f1:.2f}')"
   ]
  },
  {
   "cell_type": "markdown",
   "metadata": {},
   "source": [
    "### sklearn이용"
   ]
  },
  {
   "cell_type": "code",
   "execution_count": 13,
   "metadata": {},
   "outputs": [],
   "source": [
    "from sklearn import metrics"
   ]
  },
  {
   "cell_type": "code",
   "execution_count": 15,
   "metadata": {},
   "outputs": [
    {
     "name": "stdout",
     "output_type": "stream",
     "text": [
      "accuracy : 0.67\n",
      "precision : 1.00\n",
      "recall : 0.50\n",
      "f1_score : 0.67\n"
     ]
    }
   ],
   "source": [
    "print(f'accuracy : {metrics.accuracy_score(y,p):.2f}')\n",
    "print(f'precision : {metrics.precision_score(y, p):.2f}')\n",
    "print(f'recall : {metrics.recall_score(y,p):.2f}')\n",
    "print(f'f1_score : {metrics.f1_score(y,p):.2f}')"
   ]
  },
  {
   "cell_type": "code",
   "execution_count": null,
   "metadata": {},
   "outputs": [],
   "source": []
  }
 ],
 "metadata": {
  "kernelspec": {
   "display_name": "tjAKA",
   "language": "python",
   "name": "python3"
  },
  "language_info": {
   "codemirror_mode": {
    "name": "ipython",
    "version": 3
   },
   "file_extension": ".py",
   "mimetype": "text/x-python",
   "name": "python",
   "nbconvert_exporter": "python",
   "pygments_lexer": "ipython3",
   "version": "3.12.7"
  }
 },
 "nbformat": 4,
 "nbformat_minor": 2
}
