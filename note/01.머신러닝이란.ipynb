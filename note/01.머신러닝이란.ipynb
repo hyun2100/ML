{
 "cells": [
  {
   "cell_type": "markdown",
   "metadata": {},
   "source": [
    "# 머신러닝이란?\n",
    ": 수많은 데이터를 학습시켜 거기에 있는 패턴을 찾아내고 이를 기반으로 데이터를 분류하거나 예측.\n",
    "- 일반 소프트웨어(결정론적 소프트웨어)는 언제나 똑같은 과정을 거쳐 똑같은 결과를 냅니다\n",
    "- 머신러닝 기반 소프트웨어는 데이터와 알고리즘에 따라 때로는 다른 결과를 추론해 냅니다.  \n",
    "(* 추론 : 이미 알고 있는 것으로부터 논리적 결론을 도출하는 과정)\n",
    "- 머신러닝(비결정론적 소프트웨어) : 데이터와 알고리즘을 기반으로 추론하는 프로그램으로 정의할 수 있다."
   ]
  },
  {
   "cell_type": "markdown",
   "metadata": {},
   "source": [
    "### 특징 추출\n",
    "특징 추출이란 머신러닝을 하기 위해 데이터가 어떤 특징을 가지고 있는지 찾고 벡터로 만드는 처리과정.  \n",
    "일반적으로 사용되는 머신러닝 프레임워크는 범용적인 용도입니다. 따라서, 내가 원하는 특징을 추출해 주는 기능은 없습니다.  \n",
    "어떤 특징을 추출할지는 분석가가 결정해야 합니다. 이거시 머신러닝의 중요한 포인트 입니다..  \n",
    "\n",
    "\n"
   ]
  },
  {
   "cell_type": "markdown",
   "metadata": {},
   "source": [
    "### 회귀분석\n",
    "회귀분석(regression analysis)은 Y가 연속된 값일때, Y = f(x)와 같은 모델로 나타내는 것.  \n",
    "회귀에서 사용되는 가장 기본적인 모델은 Y = aX + b 이고 이를 선형회귀라고 합니다.  \n",
    "이때, Y를 종속변수(Target, label), X를 독립변수(Featrue, Input)라고 부릅니다.  \n",
    "X가 1차원이면 단순회귀, 2차원이면 다중회귀, X1~X3면 다항회귀  "
   ]
  },
  {
   "cell_type": "markdown",
   "metadata": {},
   "source": [
    "# 머신러닝의 종류\n",
    "\n",
    "- 지도 학습(Supervised Learning)  \n",
    ": 학습시 데이터와 답을 같이 학습한 후에 다른 데이터의 답을 예측한다.  \n",
    "- 비지도 학습(Unsupervised Learning)  \n",
    ": 학습시 데이터만 학습한 후에 다른 데이터의 규칙성을 찾습니다. 본질적 구조등을 확인할때 사용   \n",
    "클러스터 분석(Cluster Analysis), 주성분분석(Principal Component Analysis)   \n",
    "- 강화 학습(Reinforcement Learning)\n",
    ": 부분적으로 답을 입력한 후 데이터를 기반으로 최적의 답을 찾아 냅니다.\n"
   ]
  },
  {
   "cell_type": "markdown",
   "metadata": {},
   "source": [
    "---\n",
    "### 머신러닝의 흐름\n",
    "(1) 데이터 수집  \n",
    "(2) 데이터 가공  \n",
    "(3) 데이터 학습  \n",
    "  (3-1) 학습 방법 선택    \n",
    "  (3-2) 매개변수(Hyper Parameter) 조정     \n",
    "  (3-3) 모델 학습  \n",
    "(4) 모델 평가  \n",
    "(5) 예측력이 좋은 경우 다음단계 진행 아니면(3)~(4)혹은 (1)~(4)를 반복  \n",
    "(6) 성공!!!!!!!!!!!!!!!!!"
   ]
  },
  {
   "cell_type": "markdown",
   "metadata": {},
   "source": [
    "## 머신러닝의 응용 분야\n",
    "### 클래스 분류(Classification)\n",
    "- 특정 데이터에 레이블을 붙여 분류.  \n",
    "- 스팸메일 분류, 필기 인식, 증권사기 등   \n",
    "#### 이진 분류\n",
    "- 둘 중 하나의 값으로 분류하는 경우\n",
    "#### 다중 분류\n",
    "-여러 개의 분류값 중에서 하나의 값으로 예측하는 경우\n",
    "\n",
    "---\n",
    "\n",
    "### 클러스터링(Clustering) : 그룹 나누기\n",
    "- 값의 유사성을 기반으로 데이터를 여러 그룹으로 나눌수 있습니다.  \n",
    "- 사용자의 취향을 그룹으로 묶어 사용자 취향에 맞는 광고를 제공  \n",
    "\n",
    "---\n",
    "\n",
    "### 추천(Recommendation)\n",
    "- 특정 데이터를 기반으로 다른 데이터를 추천하는 것   \n",
    "- 인터넷 서점에서 구매한 책들을 기반으로 다른 책을 추천  \n",
    "\n",
    "---\n",
    "\n",
    "### 회귀(Regression)\n",
    "- 과거의 데이터를 기반으로 미래를 예측하는 것\n",
    "- 판매 예측, 주가 변동 예측\n",
    "\n",
    "### 차원축소(Dimensionality Reduction)\n",
    "- 데이터의 특성을 유지하면서 데이터의 양을 줄이는 것\n",
    "- 데이터를 시각화 아거나 구조를 추출해서 용량을 줄여 계산을 빠르게 하거나 메모리를 절약할때 사용.  \n",
    "\n"
   ]
  },
  {
   "cell_type": "markdown",
   "metadata": {},
   "source": [
    "---\n",
    "## 과대적합(Overfitting)과 과소적합(Underfitting)\n",
    "- 데이터에서 충분히 특징을 찾아내지 못하고 머신러닝 모델 학습을 할 경우 모델이 과소적합되기 쉽고  \n",
    "- 필요 이상이 특징으로 학습할 경우 모델이 과대적합이 되기 쉽다.\n"
   ]
  },
  {
   "cell_type": "code",
   "execution_count": null,
   "metadata": {},
   "outputs": [],
   "source": []
  },
  {
   "cell_type": "code",
   "execution_count": null,
   "metadata": {},
   "outputs": [],
   "source": []
  },
  {
   "cell_type": "code",
   "execution_count": null,
   "metadata": {},
   "outputs": [],
   "source": []
  },
  {
   "cell_type": "code",
   "execution_count": null,
   "metadata": {},
   "outputs": [],
   "source": []
  },
  {
   "cell_type": "code",
   "execution_count": null,
   "metadata": {},
   "outputs": [],
   "source": []
  },
  {
   "cell_type": "code",
   "execution_count": null,
   "metadata": {},
   "outputs": [],
   "source": []
  },
  {
   "cell_type": "code",
   "execution_count": null,
   "metadata": {},
   "outputs": [],
   "source": []
  }
 ],
 "metadata": {
  "kernelspec": {
   "display_name": "tjAKA",
   "language": "python",
   "name": "python3"
  },
  "language_info": {
   "codemirror_mode": {
    "name": "ipython",
    "version": 3
   },
   "file_extension": ".py",
   "mimetype": "text/x-python",
   "name": "python",
   "nbconvert_exporter": "python",
   "pygments_lexer": "ipython3",
   "version": "3.12.7"
  }
 },
 "nbformat": 4,
 "nbformat_minor": 2
}
