{
 "cells": [
  {
   "cell_type": "markdown",
   "metadata": {},
   "source": [
    "### 앙상블\n",
    "- 여러개의 분류 모델을 조합해서 더 나은 성능을 내는 방법"
   ]
  },
  {
   "cell_type": "markdown",
   "metadata": {},
   "source": [
    "### RandomForest\n",
    ": 의사결정트리를 bagging(단일 모델 조합)해서 예측을 실행하는 모델"
   ]
  },
  {
   "cell_type": "code",
   "execution_count": 1,
   "metadata": {},
   "outputs": [],
   "source": [
    "from sklearn import datasets\n",
    "from sklearn import tree\n",
    "from sklearn.ensemble import RandomForestClassifier\n",
    "from sklearn.model_selection import cross_val_score\n",
    "\n",
    "import pandas as pd\n",
    "import numpy as np\n",
    "import matplotlib.pyplot as plt\n",
    "\n",
    "np.random.seed(42)"
   ]
  },
  {
   "cell_type": "code",
   "execution_count": 3,
   "metadata": {},
   "outputs": [],
   "source": [
    "# 손글씨 데이터\n",
    "mnist = datasets.load_digits()\n",
    "\n",
    "feature, labels = mnist.data, mnist.target\n"
   ]
  },
  {
   "cell_type": "code",
   "execution_count": null,
   "metadata": {},
   "outputs": [
    {
     "data": {
      "text/plain": [
       "[0.8269087523277466,\n",
       " 0.8230291744258225,\n",
       " 0.8291371818746119,\n",
       " 0.8241154562383614,\n",
       " 0.8302576039726878,\n",
       " 0.8263283674736188,\n",
       " 0.8230198634388579,\n",
       " 0.8263469894475481,\n",
       " 0.8219025450031037,\n",
       " 0.8302420856610799]"
      ]
     },
     "execution_count": 9,
     "metadata": {},
     "output_type": "execute_result"
    }
   ],
   "source": [
    "# 의사결정 나무를 이용한 교차검증 10번 실시\n",
    "\n",
    "cv_scores = []\n",
    "\n",
    "for _ in range(10):\n",
    "    scores = cross_val_score(tree.DecisionTreeClassifier(),\n",
    "                            feature,\n",
    "                            labels,\n",
    "                            cv=10,\n",
    "                            scoring='accuracy',\n",
    "                            )\n",
    "    cv_scores.append(scores.mean())\n",
    "\n",
    "cv_scores"
   ]
  },
  {
   "cell_type": "code",
   "execution_count": 10,
   "metadata": {},
   "outputs": [
    {
     "data": {
      "text/plain": [
       "[0.9510335195530726,\n",
       " 0.9499037864680322,\n",
       " 0.9482402234636871,\n",
       " 0.9549317194289261,\n",
       " 0.9504748603351955,\n",
       " 0.9538081936685288,\n",
       " 0.9482402234636871,\n",
       " 0.952129112352576,\n",
       " 0.9521384233395406,\n",
       " 0.9510304158907511]"
      ]
     },
     "execution_count": 10,
     "metadata": {},
     "output_type": "execute_result"
    }
   ],
   "source": [
    "# Random Forest를 이용한 교차검증 10번 실시\n",
    "\n",
    "cv_scores = []\n",
    "\n",
    "for _ in range(10):\n",
    "    scores = cross_val_score(RandomForestClassifier(),\n",
    "                            feature,\n",
    "                            labels,\n",
    "                            cv=10,\n",
    "                            scoring='accuracy',\n",
    "                            )\n",
    "    cv_scores.append(scores.mean())\n",
    "\n",
    "cv_scores"
   ]
  },
  {
   "cell_type": "code",
   "execution_count": 11,
   "metadata": {},
   "outputs": [],
   "source": [
    "# func\n",
    "def cv10scores(feature, labels, model):\n",
    "    cv_scores = []\n",
    "\n",
    "    for _ in range(10):\n",
    "        scores = cross_val_score(model,\n",
    "                                feature,\n",
    "                                labels,\n",
    "                                cv=10,\n",
    "                                scoring='accuracy',\n",
    "                                )\n",
    "        cv_scores.append(scores.mean())\n",
    "    return cv_scores"
   ]
  },
  {
   "cell_type": "code",
   "execution_count": 13,
   "metadata": {},
   "outputs": [],
   "source": [
    "rfcScores = cv10scores(feature, labels, RandomForestClassifier())\n",
    "decScores = cv10scores(feature, labels, tree.DecisionTreeClassifier())"
   ]
  },
  {
   "cell_type": "code",
   "execution_count": 14,
   "metadata": {},
   "outputs": [],
   "source": [
    "import seaborn as sns"
   ]
  },
  {
   "cell_type": "code",
   "execution_count": 26,
   "metadata": {},
   "outputs": [
    {
     "data": {
      "text/plain": [
       "<Axes: >"
      ]
     },
     "execution_count": 26,
     "metadata": {},
     "output_type": "execute_result"
    },
    {
     "data": {
      "image/png": "[encoded data removed]",
      "text/plain": [
       "<Figure size 640x480 with 1 Axes>"
      ]
     },
     "metadata": {},
     "output_type": "display_data"
    }
   ],
   "source": [
    "pd.DataFrame([\n",
    "        rfcScores,\n",
    "        decScores\n",
    "    ]\n",
    ").T.plot(\n",
    "    kind='box'\n",
    ")\n"
   ]
  },
  {
   "cell_type": "code",
   "execution_count": 27,
   "metadata": {},
   "outputs": [
    {
     "data": {
      "text/plain": [
       "0.8279729981378026"
      ]
     },
     "execution_count": 27,
     "metadata": {},
     "output_type": "execute_result"
    }
   ],
   "source": [
    "np.mean(decScores)"
   ]
  },
  {
   "cell_type": "code",
   "execution_count": 29,
   "metadata": {},
   "outputs": [
    {
     "data": {
      "text/plain": [
       "0.9493559900682804"
      ]
     },
     "execution_count": 29,
     "metadata": {},
     "output_type": "execute_result"
    }
   ],
   "source": [
    "np.mean(rfcScores)"
   ]
  },
  {
   "cell_type": "markdown",
   "metadata": {},
   "source": [
    "---\n",
    "### 보팅(Voting)앙상블\n",
    ": 단일 모델을 앙상블하여 더 나은 예측하는 모델 생성"
   ]
  },
  {
   "cell_type": "code",
   "execution_count": 35,
   "metadata": {},
   "outputs": [],
   "source": [
    "from sklearn import datasets\n",
    "from sklearn import tree\n",
    "from sklearn.neighbors import KNeighborsClassifier\n",
    "from sklearn.svm import SVC\n",
    "from sklearn.ensemble import VotingClassifier\n",
    "from sklearn.model_selection import train_test_split\n",
    "from sklearn.metrics import accuracy_score\n",
    "\n",
    "\n",
    "import numpy as np\n",
    "np.random.seed(42)\n"
   ]
  },
  {
   "cell_type": "code",
   "execution_count": 36,
   "metadata": {},
   "outputs": [],
   "source": [
    "mnist = datasets.load_digits()"
   ]
  },
  {
   "cell_type": "code",
   "execution_count": 38,
   "metadata": {},
   "outputs": [],
   "source": [
    "features, labels = mnist.data, mnist.target"
   ]
  },
  {
   "cell_type": "code",
   "execution_count": 39,
   "metadata": {},
   "outputs": [],
   "source": [
    "X_train, X_test, Y_train, Y_test = train_test_split(\n",
    "                                                    features,\n",
    "                                                    labels,\n",
    "                                                    random_state=42,\n",
    "                                                    test_size=0.2,\n",
    "                                                    stratify=labels,\n",
    ")"
   ]
  },
  {
   "cell_type": "markdown",
   "metadata": {},
   "source": [
    "### 단일 모델 정확도 측정"
   ]
  },
  {
   "cell_type": "code",
   "execution_count": 55,
   "metadata": {},
   "outputs": [],
   "source": [
    "# 의사결정 나무\n",
    "dtree = tree.DecisionTreeClassifier().fit(X_train, Y_train)\n",
    "dtree_pred = dtree.predict(X_test)\n",
    "\n",
    "\n",
    "# KNN\n",
    "knn = KNeighborsClassifier().fit(X_train, Y_train)\n",
    "knn_pred = knn.predict(X_test)\n",
    "\n",
    "# SVM\n",
    "svm = SVC(probability=True).fit(X_train, Y_train)\n",
    "svm_pred = svm.predict(X_test)"
   ]
  },
  {
   "cell_type": "code",
   "execution_count": 43,
   "metadata": {},
   "outputs": [
    {
     "name": "stdout",
     "output_type": "stream",
     "text": [
      "Decision Tree    :  0.8222222222222222\n",
      "KNN              :  0.9833333333333333\n",
      "SVM              :  0.9916666666666667\n"
     ]
    }
   ],
   "source": [
    "\n",
    "print(\"Decision Tree    : \", accuracy_score(Y_test, dtree_pred))\n",
    "print(\"KNN              : \", accuracy_score(Y_test, knn_pred))\n",
    "print(\"SVM              : \", accuracy_score(Y_test, svm_pred))"
   ]
  },
  {
   "cell_type": "markdown",
   "metadata": {},
   "source": [
    "### 하드보팅\n",
    ": 각각의 분류기의 예측값들을 모아, 가장 많은 득표를 받은 예측값으로 최종 결론을 내는 방식"
   ]
  },
  {
   "cell_type": "code",
   "execution_count": 52,
   "metadata": {},
   "outputs": [
    {
     "data": {
      "text/plain": [
       "0.9916666666666667"
      ]
     },
     "execution_count": 52,
     "metadata": {},
     "output_type": "execute_result"
    }
   ],
   "source": [
    "voting_clf = VotingClassifier(\n",
    "                estimators=[('decision tree', dtree), ('knn', knn), ('svm', svm)],\n",
    "                weights=[1, 2, 4],\n",
    "                voting='hard',\n",
    ").fit(X_train, Y_train)\n",
    "\n",
    "hard_voting_pred = voting_clf.predict(X_test)\n",
    "accuracy_score(Y_test, hard_voting_pred) "
   ]
  },
  {
   "cell_type": "markdown",
   "metadata": {},
   "source": [
    "### 소프트 보팅\n",
    ": 소프트 보팅은 각각의 분류모델을 활용하여 모든 분류값드르이 확률들을 더해서 가장 높은 점수를 획득한 분류값으로 최종 결론을 내는 방식\n"
   ]
  },
  {
   "cell_type": "code",
   "execution_count": null,
   "metadata": {},
   "outputs": [
    {
     "data": {
      "text/plain": [
       "0.9861111111111112"
      ]
     },
     "execution_count": 56,
     "metadata": {},
     "output_type": "execute_result"
    }
   ],
   "source": [
    "voting_clf = VotingClassifier(\n",
    "                estimators=[('decision tree', dtree), ('knn', knn), ('svm', svm)],\n",
    "                weights=[1, 2, 4],\n",
    "                voting='soft',\n",
    ").fit(X_train, Y_train)\n",
    "\n",
    "hard_voting_pred = voting_clf.predict(X_test)\n",
    "accuracy_score(Y_test, hard_voting_pred)"
   ]
  },
  {
   "cell_type": "code",
   "execution_count": null,
   "metadata": {},
   "outputs": [],
   "source": []
  },
  {
   "cell_type": "code",
   "execution_count": null,
   "metadata": {},
   "outputs": [],
   "source": []
  },
  {
   "cell_type": "code",
   "execution_count": null,
   "metadata": {},
   "outputs": [],
   "source": []
  },
  {
   "cell_type": "code",
   "execution_count": null,
   "metadata": {},
   "outputs": [],
   "source": []
  }
 ],
 "metadata": {
  "kernelspec": {
   "display_name": "tjAKA",
   "language": "python",
   "name": "python3"
  },
  "language_info": {
   "codemirror_mode": {
    "name": "ipython",
    "version": 3
   },
   "file_extension": ".py",
   "mimetype": "text/x-python",
   "name": "python",
   "nbconvert_exporter": "python",
   "pygments_lexer": "ipython3",
   "version": "3.12.7"
  }
 },
 "nbformat": 4,
 "nbformat_minor": 2
}
